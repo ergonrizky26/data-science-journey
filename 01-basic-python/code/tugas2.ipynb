{
  "cells": [
    {
      "cell_type": "markdown",
      "metadata": {
        "id": "NPbSSnPA3XF-"
      },
      "source": [
        "# Soft Computing\n",
        "\n",
        "## Tugas 2: Convolutional Neural Networks\n",
        "\n",
        "### Mekanisme\n",
        "\n",
        "Anda hanya diwajibkan untuk mengumpulkan file ini saja ke uploader yang disediakan di http://elearning2.uai.ac.id/. Ganti nama file ini saat pengumpulan menjadi tugas2_NIM.ipynb.\n",
        "\n",
        "**Keterlambatan**: Pengumpulan tugas yang melebihi tenggat yang telah ditentukan tidak akan diterima. Keterlambatan akan berakibat pada nilai nol untuk tugas ini.\n",
        "\n",
        "**Kolaborasi**: Anda diperbolehkan untuk berdiskusi dengan teman Anda, tetapi dilarang keras menyalin kode maupun tulisan dari teman Anda.\n",
        "\n",
        "### Petunjuk\n",
        "\n",
        "_Packages_ yang Anda akan gunakan dalam mengerjakan tugas ini antara lain:\n",
        "\n",
        "- tensorflow/keras\n",
        "- matplotlib\n",
        "- numpy\n",
        "- pandas\n",
        "- pillow\n",
        "- scipy\n",
        "- seaborn\n",
        "\n",
        "Anda diperbolehkan (jika dirasa perlu) untuk mengimpor modul tambahan untuk tugas ini. Namun, seharusnya modul yang tersedia sudah cukup untuk memenuhi kebutuhan Anda. Untuk kode yang Anda ambil dari sumber lain, **cantumkan URL menuju referensi tersebut jika diambil dari internet**!\n",
        "\n",
        "Perhatikan poin untuk tiap soal! **Semakin kecil poinnya, berarti kode yang diperlukan untuk menjawab soal tersebut seharusnya semakin sedikit!**"
      ]
    },
    {
      "cell_type": "markdown",
      "metadata": {
        "id": "NdAdhBy23XF_"
      },
      "source": [
        "**Nilai akhir: XX/50**"
      ]
    },
    {
      "cell_type": "markdown",
      "metadata": {
        "id": "S7EXlUWW3XF_"
      },
      "source": [
        "### Deskripsi Dataset\n",
        "\n",
        "Dalam tugas ini, Anda akan mencoba melakukan klasifikasi objek melalui gambar dengan dataset [CIFAR-10](https://www.cs.toronto.edu/~kriz/cifar.html). Data ini terdiri dari 60000 gambar berwarna dengan ukuran 32x32 pixels yang terbagi ke dalam 10 kelas. Data ini dikumpulkan oleh Alex Krizhevsky, Vinod Nair, dan Geoffrey Hinton. Tugas Anda adalah menghasilkan model yang dapat mengklasifikasikan sebaik mungkin masing-masing objek dalam dataset tersebut."
      ]
    },
    {
      "cell_type": "markdown",
      "metadata": {
        "id": "Uu3iGLnl3XGA"
      },
      "source": [
        "### Mengimpor Modul dan Dataset"
      ]
    },
    {
      "cell_type": "code",
      "execution_count": null,
      "metadata": {
        "collapsed": true,
        "id": "KbgNdJM03XGA"
      },
      "outputs": [],
      "source": [
        "import matplotlib.pyplot as plt\n",
        "import numpy as np\n",
        "import pandas as pd\n",
        "import seaborn as sns\n",
        "import tensorflow as tf\n",
        "\n",
        "%matplotlib inline"
      ]
    },
    {
      "cell_type": "code",
      "execution_count": null,
      "metadata": {
        "id": "2rfLK-FX3XGB"
      },
      "outputs": [],
      "source": [
        "cifar10 = tf.keras.datasets.cifar10\n",
        "(x_train, y_train), (x_test, y_test) = cifar10.load_data()"
      ]
    },
    {
      "cell_type": "code",
      "execution_count": null,
      "metadata": {
        "id": "_kY3-e6w3XGB"
      },
      "outputs": [],
      "source": [
        "labels = [\n",
        "    'airplane',\n",
        "    'automobile',\n",
        "    'bird',\n",
        "    'cat',\n",
        "    'deer',\n",
        "    'dog',\n",
        "    'frog',\n",
        "    'horse',\n",
        "    'ship',\n",
        "    'truck'\n",
        "]"
      ]
    },
    {
      "cell_type": "markdown",
      "metadata": {
        "id": "PkXGbuas3XGB"
      },
      "source": [
        "## 1. Eksplorasi Awal Data dan Preprocessing (10 poin)\n",
        "\n",
        "Pada bagian ini, kecuali dijelaskan lebih rinci, dataset yang Anda harusnya gunakan adalah `x_train`."
      ]
    },
    {
      "cell_type": "markdown",
      "metadata": {
        "id": "28CyPjY-3XGB"
      },
      "source": [
        "### Soal 1.1 (2 poin)\n",
        "\n",
        "Tunjukkan dimensi dari data latih dan data uji."
      ]
    },
    {
      "cell_type": "code",
      "execution_count": null,
      "metadata": {
        "collapsed": true,
        "id": "LDtYy5hd3XGC"
      },
      "outputs": [],
      "source": [
        "# Kode Anda di sini"
      ]
    },
    {
      "cell_type": "markdown",
      "metadata": {
        "id": "kTDMr-Ve3XGC"
      },
      "source": [
        "### Soal 1.2 (3 poin)\n",
        "\n",
        "Ambil 1 contoh gambar dari masing-masing kelas, lalu gambarkan.\n",
        "\n",
        "*Petunjuk: Anda dapat menggunakan `plt.imshow()`*"
      ]
    },
    {
      "cell_type": "code",
      "execution_count": null,
      "metadata": {
        "collapsed": true,
        "id": "Wx9bAFdi3XGC"
      },
      "outputs": [],
      "source": [
        "# Kode Anda di sini"
      ]
    },
    {
      "cell_type": "markdown",
      "metadata": {
        "id": "BvdmsDGR3XGC"
      },
      "source": [
        "### Soal 1.3 (5 poin)\n",
        "\n",
        "Anda akan melakukan dua jenis pemrosesan, untuk hitam-putih dan untuk gambar berwarna. Saat ini, Anda hanya memiliki gambar berwarna. Oleh karena itu, ubah gambar dalam data latih dan data uji menjadi hitam-putih. Caranya adalah dengan mencari nilai rata-rata dari ketiga channel RGB untuk setiap pixel. Tunjukkan 5 sampel gambar untuk memastikan bahwa warnanya sudah berubah."
      ]
    },
    {
      "cell_type": "code",
      "execution_count": null,
      "metadata": {
        "id": "fm7hfZ5P3XGC"
      },
      "outputs": [],
      "source": [
        "# Kode Anda di sini"
      ]
    },
    {
      "cell_type": "markdown",
      "metadata": {
        "id": "DsoqUd-g3XGD"
      },
      "source": [
        "## 2. Klasifikasi dengan Multilayer Perceptron (20 poin)\n",
        "\n",
        "*Petunjuk: Karena melatih dalam 50 epochs dapat memakan waktu. Anda dapat menyelesaikan bagian 2 dan 3 dari tugas ini dengan menggunakan 10 epochs terlebih dahulu. Jika semua kode sudah bekerja dengan baik, Anda dapat menambahkan jumlah epochs menjadi 50 kemudian.*"
      ]
    },
    {
      "cell_type": "markdown",
      "metadata": {
        "id": "CbppfxLO3XGD"
      },
      "source": [
        "### Soal 2.1 (2 poin)\n",
        "\n",
        "Buatlah model Multilayer Perceptron (MLP) dengan input berupa gambar dalam hitam-putih. Gunakan satu hidden layer dengan 1200 ReLU hidden units."
      ]
    },
    {
      "cell_type": "code",
      "execution_count": null,
      "metadata": {
        "id": "E6aH0ohq3XGD"
      },
      "outputs": [],
      "source": [
        "def mlp():\n",
        "    # Kode Anda di sini\n",
        "    return model"
      ]
    },
    {
      "cell_type": "markdown",
      "metadata": {
        "id": "OeUFRbIv3XGD"
      },
      "source": [
        "### Soal 2.2.a (3 poin)\n",
        "\n",
        "Latih model yang telah Anda buat dengan *training set*. Gunakan Adam sebagai optimizer dari model Anda, `categorical_crossentropy` atau `sparse_categorical_entropy` sebagai *loss function*, 50 epochs, `validation_split` 0.2, dan akurasi sebagai *metric*. Berapa persen akurasi pada data latih dan data validasi dari model yang dihasilkan?\n",
        "\n",
        "*Catatan: Anda mungkin saja perlu mengubah nilai gambar menjadi [0,1]. Selain itu, perlu ada perubahan dari dimensi y_train dan y_test.*"
      ]
    },
    {
      "cell_type": "code",
      "execution_count": null,
      "metadata": {
        "id": "fPdPmhs03XGD"
      },
      "outputs": [],
      "source": [
        "np.random.seed(42)\n",
        "\n",
        "model = mlp()\n",
        "# Kode Anda di sini"
      ]
    },
    {
      "cell_type": "markdown",
      "metadata": {
        "id": "JUZzRxgk3XGD"
      },
      "source": [
        "### Soal 2.2.b (2 poin)\n",
        "\n",
        "Gambarkan *learning curve* berupa akurasi dari data latih dan data validasi dari proses pelatihan di atas."
      ]
    },
    {
      "cell_type": "code",
      "execution_count": null,
      "metadata": {
        "id": "BYjxiohl3XGD"
      },
      "outputs": [],
      "source": [
        "# Kode Anda di sini"
      ]
    },
    {
      "cell_type": "markdown",
      "metadata": {
        "id": "vgsunHCB3XGE"
      },
      "source": [
        "### Soal 2.3 (3 poin)\n",
        "\n",
        "Evaluasi model Anda pada data uji. Berapa akurasi yang didapatkan? Gambarkan pula *confusion matrix* dari prediksi yang Anda hasilkan terhadap nilai yang sebenarnya."
      ]
    },
    {
      "cell_type": "code",
      "execution_count": null,
      "metadata": {
        "id": "1XqSaHL43XGE"
      },
      "outputs": [],
      "source": [
        "from sklearn.metrics import confusion_matrix\n",
        "\n",
        "# Kode Anda di sini"
      ]
    },
    {
      "cell_type": "markdown",
      "metadata": {
        "id": "-IbMCu5q3XGE"
      },
      "source": [
        "### Soal 2.4 (5 poin)\n",
        "\n",
        "Coba untuk melakukan klasifikasi dengan MLP, tetapi dengan gambar yang berwarna. Anda dibebaskan untuk menentukan arsitektur neural network yang akan digunakan. Berapa akurasi pada data uji yang bisa Anda dapatkan?"
      ]
    },
    {
      "cell_type": "code",
      "execution_count": null,
      "metadata": {
        "id": "8116VBg63XGE"
      },
      "outputs": [],
      "source": [
        "np.random.seed(42)\n",
        "\n",
        "def mlpc():\n",
        "    # Kode Anda di sini\n",
        "    return model\n",
        "\n",
        "model = mlpc()\n",
        "# Kode Anda di sini"
      ]
    },
    {
      "cell_type": "markdown",
      "metadata": {
        "id": "yEYtyMLE3XGE"
      },
      "source": [
        "### Soal 2.5 (5 poin)\n",
        "\n",
        "Apa kesimpulan yang dapat Anda ambil sejauh ini? *Petunjuk: Anda dapat membandingkan akurasi terbaik yang Anda dapatkan dengan akurasi yang mungkin didapatkan jika klasifikasinya hanya berupa model yang menebak objek secara acak (uniform random).*"
      ]
    },
    {
      "cell_type": "markdown",
      "metadata": {
        "id": "s7LgvR1N3XGE"
      },
      "source": [
        "*Jawaban Anda di sini*"
      ]
    },
    {
      "cell_type": "markdown",
      "metadata": {
        "id": "fPu1QsL93XGE"
      },
      "source": [
        "## 3. Convolutional Neural Networks (20 poin)\n",
        "\n",
        "Apakah kita bisa menghasilkan model klasifikasi yang lebih baik?"
      ]
    },
    {
      "cell_type": "markdown",
      "metadata": {
        "id": "EC6KX38N3XGF"
      },
      "source": [
        "### Soal 3.1 (5 poin)\n",
        "\n",
        "Buatlah model *convolutional neural network* untuk melakukan klasifikasi. Anda dibebaskan untuk menentukan arsitekturnya."
      ]
    },
    {
      "cell_type": "code",
      "execution_count": null,
      "metadata": {
        "id": "M1hFS1i13XGF"
      },
      "outputs": [],
      "source": [
        "def cnn():\n",
        "    # Kode Anda di sini\n",
        "    return model"
      ]
    },
    {
      "cell_type": "markdown",
      "metadata": {
        "id": "zP9Nzxsy3XGF"
      },
      "source": [
        "### Soal 3.2 (3 poin)\n",
        "\n",
        "Latih model dengan data latih dan gunakan 20% dari data latih sebagai validasi. Gambarkan *learning curve* dari model Anda."
      ]
    },
    {
      "cell_type": "code",
      "execution_count": null,
      "metadata": {
        "id": "tYNBJWF63XGF"
      },
      "outputs": [],
      "source": [
        "np.random.seed(42)\n",
        "\n",
        "model = cnn()\n",
        "# Kode Anda di sini"
      ]
    },
    {
      "cell_type": "markdown",
      "metadata": {
        "id": "XXbDbWvv3XGF"
      },
      "source": [
        "### Soal 3.3 (5 poin)\n",
        "\n",
        "Salah satu cara untuk menghasilkan klasifikasi yang lebih baik pada dataset berupa gambar adalah dengan melakukan augmentasi. Definisikan augmentasinya dengan `keras.preprocessing.image.ImageDataGenerator`, lalu latih ulang model Anda. Pastikan bahwa data validasi tidak diaugmentasi. Berapa akurasi yang Anda dapatkan sekarang?"
      ]
    },
    {
      "cell_type": "code",
      "execution_count": null,
      "metadata": {
        "id": "71AUpo1R3XGF"
      },
      "outputs": [],
      "source": [
        "np.random.seed(42)\n",
        "\n",
        "model = cnn()\n",
        "# Kode Anda di sini"
      ]
    },
    {
      "cell_type": "markdown",
      "metadata": {
        "id": "nkhWw6p73XGG"
      },
      "source": [
        "### Soal 3.4 (2 poin)\n",
        "\n",
        "Lakukan klasifikasi pada data uji dengan model terbaik yang Anda hasilkan. Berapa akurasi yang Anda dapatkan? Gambarkan pula *confusion matrix*-nya!"
      ]
    },
    {
      "cell_type": "code",
      "execution_count": null,
      "metadata": {
        "id": "-yQEd30b3XGG"
      },
      "outputs": [],
      "source": [
        "# Kode Anda di sini"
      ]
    },
    {
      "cell_type": "markdown",
      "metadata": {
        "id": "pbiXYSg53XGG"
      },
      "source": [
        "### Soal 3.5 (5 poin)\n",
        "\n",
        "Berikan kesimpulan Anda dari eksplorasi yang telah Anda lakukan pada tugas ini."
      ]
    },
    {
      "cell_type": "markdown",
      "metadata": {
        "id": "H348uyfu3XGG"
      },
      "source": [
        "*Jawaban Anda di sini*"
      ]
    }
  ],
  "metadata": {
    "anaconda-cloud": {},
    "kernelspec": {
      "display_name": "Python 3",
      "language": "python",
      "name": "python3"
    },
    "language_info": {
      "codemirror_mode": {
        "name": "ipython",
        "version": 3
      },
      "file_extension": ".py",
      "mimetype": "text/x-python",
      "name": "python",
      "nbconvert_exporter": "python",
      "pygments_lexer": "ipython3",
      "version": "3.6.7"
    },
    "colab": {
      "provenance": []
    }
  },
  "nbformat": 4,
  "nbformat_minor": 0
}