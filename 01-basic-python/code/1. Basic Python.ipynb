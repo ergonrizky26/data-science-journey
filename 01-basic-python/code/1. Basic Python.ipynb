{
 "cells": [
  {
   "cell_type": "markdown",
   "id": "50c1b727",
   "metadata": {},
   "source": [
    "# 1. Basic Variables"
   ]
  },
  {
   "cell_type": "code",
   "execution_count": 10,
   "id": "7f1bd472",
   "metadata": {},
   "outputs": [],
   "source": [
    "my_friend = \"Tony is my friend\"\n",
    "my_number = 123\n",
    "my_decimalnumber = 123.50"
   ]
  },
  {
   "cell_type": "code",
   "execution_count": 11,
   "id": "3595a77e",
   "metadata": {},
   "outputs": [
    {
     "name": "stdout",
     "output_type": "stream",
     "text": [
      "Tony is my friend\n",
      "123\n",
      "123.5\n"
     ]
    }
   ],
   "source": [
    "print(my_friend)\n",
    "print(my_number)\n",
    "print(my_decimalnumber)"
   ]
  },
  {
   "cell_type": "code",
   "execution_count": 16,
   "id": "24e0c137",
   "metadata": {},
   "outputs": [
    {
     "name": "stdout",
     "output_type": "stream",
     "text": [
      "<class 'str'>\n",
      "<class 'int'>\n",
      "<class 'float'>\n"
     ]
    }
   ],
   "source": [
    "# Check data type\n",
    "print(type(my_friend))\n",
    "print(type(my_number))\n",
    "print(type(my_decimalnumber))"
   ]
  },
  {
   "cell_type": "markdown",
   "id": "35d37b71",
   "metadata": {},
   "source": [
    "# 2. Different Data Types"
   ]
  },
  {
   "cell_type": "code",
   "execution_count": 18,
   "id": "22cb50c6",
   "metadata": {},
   "outputs": [
    {
     "name": "stdout",
     "output_type": "stream",
     "text": [
      "This is my string\n"
     ]
    },
    {
     "data": {
      "text/plain": [
       "str"
      ]
     },
     "execution_count": 18,
     "metadata": {},
     "output_type": "execute_result"
    }
   ],
   "source": [
    "# String\n",
    "String_one = \"This is my string\"\n",
    "print(String_one)\n",
    "type(String_one)"
   ]
  },
  {
   "cell_type": "code",
   "execution_count": 20,
   "id": "b51ba2dd",
   "metadata": {},
   "outputs": [
    {
     "name": "stdout",
     "output_type": "stream",
     "text": [
      "26\n"
     ]
    },
    {
     "data": {
      "text/plain": [
       "int"
      ]
     },
     "execution_count": 20,
     "metadata": {},
     "output_type": "execute_result"
    }
   ],
   "source": [
    "# Integer\n",
    "Integer_one = 26\n",
    "print(Integer_one)\n",
    "type(Integer_one)"
   ]
  },
  {
   "cell_type": "code",
   "execution_count": 21,
   "id": "5efc7d8e",
   "metadata": {},
   "outputs": [
    {
     "data": {
      "text/plain": [
       "46"
      ]
     },
     "execution_count": 21,
     "metadata": {},
     "output_type": "execute_result"
    }
   ],
   "source": [
    "Integer_one + 20"
   ]
  },
  {
   "cell_type": "code",
   "execution_count": 22,
   "id": "f731ccb6",
   "metadata": {},
   "outputs": [
    {
     "name": "stdout",
     "output_type": "stream",
     "text": [
      "26.62\n"
     ]
    },
    {
     "data": {
      "text/plain": [
       "float"
      ]
     },
     "execution_count": 22,
     "metadata": {},
     "output_type": "execute_result"
    }
   ],
   "source": [
    "# Float (Decimal Number)\n",
    "Float_one = 26.62\n",
    "print(Float_one)\n",
    "type(Float_one)"
   ]
  },
  {
   "cell_type": "code",
   "execution_count": 24,
   "id": "a6e1bfc1",
   "metadata": {},
   "outputs": [
    {
     "data": {
      "text/plain": [
       "0.620000000000001"
      ]
     },
     "execution_count": 24,
     "metadata": {},
     "output_type": "execute_result"
    }
   ],
   "source": [
    "Float_one - Integer_one"
   ]
  },
  {
   "cell_type": "code",
   "execution_count": 27,
   "id": "25b6bfe3",
   "metadata": {},
   "outputs": [
    {
     "name": "stdout",
     "output_type": "stream",
     "text": [
      "True\n",
      "False\n"
     ]
    },
    {
     "data": {
      "text/plain": [
       "bool"
      ]
     },
     "execution_count": 27,
     "metadata": {},
     "output_type": "execute_result"
    }
   ],
   "source": [
    "# Booleans (True and False)\n",
    "Boolean_one = True\n",
    "print(Boolean_one)\n",
    "type(Boolean_one)\n",
    "\n",
    "Boolean_two = bool(0)\n",
    "print(Boolean_two)\n",
    "type(Boolean_two)"
   ]
  },
  {
   "cell_type": "markdown",
   "id": "8130dcb5",
   "metadata": {},
   "source": [
    "# 3. Lists and Tuples"
   ]
  },
  {
   "cell_type": "code",
   "execution_count": 30,
   "id": "2115baf9",
   "metadata": {},
   "outputs": [],
   "source": [
    "# Lists\n",
    "list_A = [12, 14, 16, 12.34, True, 26, \"Abc\"]"
   ]
  },
  {
   "cell_type": "code",
   "execution_count": 31,
   "id": "a5a329be",
   "metadata": {},
   "outputs": [
    {
     "data": {
      "text/plain": [
       "[12, 14, 16, 12.34, True, 26, 'Abc']"
      ]
     },
     "execution_count": 31,
     "metadata": {},
     "output_type": "execute_result"
    }
   ],
   "source": [
    "list_A"
   ]
  },
  {
   "cell_type": "code",
   "execution_count": 32,
   "id": "5f90bfc5",
   "metadata": {},
   "outputs": [
    {
     "data": {
      "text/plain": [
       "list"
      ]
     },
     "execution_count": 32,
     "metadata": {},
     "output_type": "execute_result"
    }
   ],
   "source": [
    "type(list_A)"
   ]
  },
  {
   "cell_type": "code",
   "execution_count": 33,
   "id": "55e13e71",
   "metadata": {},
   "outputs": [
    {
     "data": {
      "text/plain": [
       "14"
      ]
     },
     "execution_count": 33,
     "metadata": {},
     "output_type": "execute_result"
    }
   ],
   "source": [
    "# Index numbering on lists start from 0\n",
    "list_A[1]"
   ]
  },
  {
   "cell_type": "code",
   "execution_count": 34,
   "id": "e10fd651",
   "metadata": {},
   "outputs": [
    {
     "data": {
      "text/plain": [
       "[12, 20, 16, 12.34, True, 26, 'Abc']"
      ]
     },
     "execution_count": 34,
     "metadata": {},
     "output_type": "execute_result"
    }
   ],
   "source": [
    "# Value in lists can be update by its index (Mutable - update the value)\n",
    "list_A[1] = 20\n",
    "list_A"
   ]
  },
  {
   "cell_type": "code",
   "execution_count": 35,
   "id": "3ea027ec",
   "metadata": {},
   "outputs": [],
   "source": [
    "# Tuples\n",
    "tuple_A = (12, 13, 14, 14.5, 15, 16)"
   ]
  },
  {
   "cell_type": "code",
   "execution_count": 36,
   "id": "caa132b6",
   "metadata": {},
   "outputs": [
    {
     "data": {
      "text/plain": [
       "tuple"
      ]
     },
     "execution_count": 36,
     "metadata": {},
     "output_type": "execute_result"
    }
   ],
   "source": [
    "type(tuple_A)"
   ]
  },
  {
   "cell_type": "code",
   "execution_count": 37,
   "id": "2730155b",
   "metadata": {},
   "outputs": [
    {
     "data": {
      "text/plain": [
       "14.5"
      ]
     },
     "execution_count": 37,
     "metadata": {},
     "output_type": "execute_result"
    }
   ],
   "source": [
    "tuple_A[3]"
   ]
  },
  {
   "cell_type": "code",
   "execution_count": 38,
   "id": "e7fe43a5",
   "metadata": {},
   "outputs": [
    {
     "ename": "TypeError",
     "evalue": "'type' object does not support item assignment",
     "output_type": "error",
     "traceback": [
      "\u001b[0;31m---------------------------------------------------------------------------\u001b[0m",
      "\u001b[0;31mTypeError\u001b[0m                                 Traceback (most recent call last)",
      "Input \u001b[0;32mIn [38]\u001b[0m, in \u001b[0;36m<cell line: 2>\u001b[0;34m()\u001b[0m\n\u001b[1;32m      1\u001b[0m \u001b[38;5;66;03m# Tuples -> Immutable - cannot update the value\u001b[39;00m\n\u001b[0;32m----> 2\u001b[0m \u001b[38;5;28mtuple\u001b[39m[\u001b[38;5;241m4\u001b[39m] \u001b[38;5;241m=\u001b[39m \u001b[38;5;241m18\u001b[39m\n",
      "\u001b[0;31mTypeError\u001b[0m: 'type' object does not support item assignment"
     ]
    }
   ],
   "source": [
    "# Tuples -> Immutable - cannot update the value\n",
    "# this code error\n",
    "tuple[4] = 18"
   ]
  },
  {
   "cell_type": "markdown",
   "id": "975fb479",
   "metadata": {},
   "source": [
    "# 4. Sets"
   ]
  },
  {
   "cell_type": "code",
   "execution_count": 39,
   "id": "c3391cc0",
   "metadata": {},
   "outputs": [],
   "source": [
    "set_A = {12, 12, 12, 13, 13, 14, 15, 16, 16, 17}"
   ]
  },
  {
   "cell_type": "code",
   "execution_count": 40,
   "id": "1e239395",
   "metadata": {},
   "outputs": [
    {
     "data": {
      "text/plain": [
       "set"
      ]
     },
     "execution_count": 40,
     "metadata": {},
     "output_type": "execute_result"
    }
   ],
   "source": [
    "type(set_A)"
   ]
  },
  {
   "cell_type": "code",
   "execution_count": 42,
   "id": "d35a889a",
   "metadata": {},
   "outputs": [
    {
     "ename": "TypeError",
     "evalue": "'type' object does not support item assignment",
     "output_type": "error",
     "traceback": [
      "\u001b[0;31m---------------------------------------------------------------------------\u001b[0m",
      "\u001b[0;31mTypeError\u001b[0m                                 Traceback (most recent call last)",
      "Input \u001b[0;32mIn [42]\u001b[0m, in \u001b[0;36m<cell line: 3>\u001b[0;34m()\u001b[0m\n\u001b[1;32m      1\u001b[0m \u001b[38;5;66;03m# Sets cannot update the value\u001b[39;00m\n\u001b[1;32m      2\u001b[0m \u001b[38;5;66;03m# Set cannot support item assigne (Immutable)\u001b[39;00m\n\u001b[0;32m----> 3\u001b[0m \u001b[38;5;28mset\u001b[39m[\u001b[38;5;241m4\u001b[39m] \u001b[38;5;241m=\u001b[39m \u001b[38;5;241m67\u001b[39m\n",
      "\u001b[0;31mTypeError\u001b[0m: 'type' object does not support item assignment"
     ]
    }
   ],
   "source": [
    "# Sets cannot update the value\n",
    "# Set cannot support item assigne (Immutable)\n",
    "# this code error\n",
    "set[4] = 67"
   ]
  },
  {
   "cell_type": "code",
   "execution_count": 43,
   "id": "9694f057",
   "metadata": {},
   "outputs": [
    {
     "data": {
      "text/plain": [
       "{12, 13, 14, 15, 16, 17}"
      ]
     },
     "execution_count": 43,
     "metadata": {},
     "output_type": "execute_result"
    }
   ],
   "source": [
    "# Sets not print duplicates value (remove duplicates)\n",
    "set_A"
   ]
  },
  {
   "cell_type": "code",
   "execution_count": 45,
   "id": "ce67d52d",
   "metadata": {},
   "outputs": [
    {
     "data": {
      "text/plain": [
       "[13, 14, 14.45, 15, 'True', 32, 32]"
      ]
     },
     "execution_count": 45,
     "metadata": {},
     "output_type": "execute_result"
    }
   ],
   "source": [
    "# Change list to set\n",
    "list_B = [13, 14, 14.45, 15, 'True', 32, 32]\n",
    "list_B"
   ]
  },
  {
   "cell_type": "code",
   "execution_count": 46,
   "id": "983fefa8",
   "metadata": {},
   "outputs": [
    {
     "data": {
      "text/plain": [
       "{13, 14, 14.45, 15, 32, 'True'}"
      ]
     },
     "execution_count": 46,
     "metadata": {},
     "output_type": "execute_result"
    }
   ],
   "source": [
    "set(list_B)"
   ]
  },
  {
   "cell_type": "code",
   "execution_count": 47,
   "id": "988b6196",
   "metadata": {},
   "outputs": [
    {
     "data": {
      "text/plain": [
       "[32, 'True', 13, 14, 15, 14.45]"
      ]
     },
     "execution_count": 47,
     "metadata": {},
     "output_type": "execute_result"
    }
   ],
   "source": [
    "# Change set to list\n",
    "list(set(list_B))"
   ]
  },
  {
   "cell_type": "code",
   "execution_count": 48,
   "id": "f0f3752e",
   "metadata": {},
   "outputs": [
    {
     "data": {
      "text/plain": [
       "list"
      ]
     },
     "execution_count": 48,
     "metadata": {},
     "output_type": "execute_result"
    }
   ],
   "source": [
    "type(list(set(list_B)))"
   ]
  },
  {
   "cell_type": "markdown",
   "id": "b564f8eb",
   "metadata": {},
   "source": [
    "# 5. Dictionary "
   ]
  },
  {
   "cell_type": "code",
   "execution_count": 1,
   "id": "695d67f0",
   "metadata": {},
   "outputs": [],
   "source": [
    "# This is a Dictionary -> key and value\n",
    "dict_A = {\"Name\" : \"Hoobs\",\n",
    "         \"Age\" : \"Twenty two\",\n",
    "         \"Nationality\" : \"British\"}"
   ]
  },
  {
   "cell_type": "code",
   "execution_count": 2,
   "id": "9c3dfbe9",
   "metadata": {},
   "outputs": [
    {
     "data": {
      "text/plain": [
       "dict"
      ]
     },
     "execution_count": 2,
     "metadata": {},
     "output_type": "execute_result"
    }
   ],
   "source": [
    "type(dict_A)"
   ]
  },
  {
   "cell_type": "code",
   "execution_count": 3,
   "id": "d5664730",
   "metadata": {},
   "outputs": [
    {
     "name": "stdout",
     "output_type": "stream",
     "text": [
      "{'Name': 'Hoobs', 'Age': 'Twenty two', 'Nationality': 'British'}\n"
     ]
    }
   ],
   "source": [
    "print(dict_A)"
   ]
  },
  {
   "cell_type": "code",
   "execution_count": 5,
   "id": "42b3d7c2",
   "metadata": {},
   "outputs": [
    {
     "data": {
      "text/plain": [
       "'British'"
      ]
     },
     "execution_count": 5,
     "metadata": {},
     "output_type": "execute_result"
    }
   ],
   "source": [
    "# Access the key\n",
    "dict_A[\"Name\"]\n",
    "dict_A[\"Nationality\"]"
   ]
  },
  {
   "cell_type": "markdown",
   "id": "6cb3300e",
   "metadata": {},
   "source": [
    "# 6. CRUD For Lists "
   ]
  },
  {
   "cell_type": "code",
   "execution_count": 9,
   "id": "1cd735e3",
   "metadata": {},
   "outputs": [],
   "source": [
    "#Create\n",
    "places = [\"Berlin\", \"Sydney\", \"German\", \"Seoul\", \"New Delhi\", \"New York\"]"
   ]
  },
  {
   "cell_type": "code",
   "execution_count": 14,
   "id": "283e0f5c",
   "metadata": {},
   "outputs": [
    {
     "data": {
      "text/plain": [
       "['Berlin', 'Sydney', 'German', 'Seoul', 'New Delhi', 'New York']"
      ]
     },
     "execution_count": 14,
     "metadata": {},
     "output_type": "execute_result"
    }
   ],
   "source": [
    "# Read\n",
    "places"
   ]
  },
  {
   "cell_type": "code",
   "execution_count": 16,
   "id": "40a3e1d2",
   "metadata": {},
   "outputs": [
    {
     "data": {
      "text/plain": [
       "'New Delhi'"
      ]
     },
     "execution_count": 16,
     "metadata": {},
     "output_type": "execute_result"
    }
   ],
   "source": [
    "# Reading using Index Number\n",
    "places[4]"
   ]
  },
  {
   "cell_type": "code",
   "execution_count": 17,
   "id": "ce465e69",
   "metadata": {},
   "outputs": [
    {
     "data": {
      "text/plain": [
       "'New York'"
      ]
     },
     "execution_count": 17,
     "metadata": {},
     "output_type": "execute_result"
    }
   ],
   "source": [
    "places[-1]"
   ]
  },
  {
   "cell_type": "code",
   "execution_count": 18,
   "id": "585de1ae",
   "metadata": {},
   "outputs": [
    {
     "data": {
      "text/plain": [
       "6"
      ]
     },
     "execution_count": 18,
     "metadata": {},
     "output_type": "execute_result"
    }
   ],
   "source": [
    "len(places)"
   ]
  },
  {
   "cell_type": "code",
   "execution_count": 20,
   "id": "7d42c448",
   "metadata": {},
   "outputs": [
    {
     "data": {
      "text/plain": [
       "['Berlin', 'Sydney', 'German', 'Seoul', 'New Delhi', 'New York']"
      ]
     },
     "execution_count": 20,
     "metadata": {},
     "output_type": "execute_result"
    }
   ],
   "source": [
    "# Update\n",
    "places[2] = \"German\"\n",
    "places"
   ]
  },
  {
   "cell_type": "code",
   "execution_count": 21,
   "id": "85e13ac9",
   "metadata": {},
   "outputs": [
    {
     "data": {
      "text/plain": [
       "['Berlin', 'Sydney', 'German', 'Seoul', 'New Delhi', 'New York', 'Moscow']"
      ]
     },
     "execution_count": 21,
     "metadata": {},
     "output_type": "execute_result"
    }
   ],
   "source": [
    "places.append(\"Moscow\")\n",
    "places"
   ]
  },
  {
   "cell_type": "code",
   "execution_count": 22,
   "id": "9fc5a1e3",
   "metadata": {},
   "outputs": [
    {
     "data": {
      "text/plain": [
       "['Berlin',\n",
       " 'Sydney',\n",
       " 'German',\n",
       " 'Seoul',\n",
       " 'Australia',\n",
       " 'New Delhi',\n",
       " 'New York',\n",
       " 'Moscow']"
      ]
     },
     "execution_count": 22,
     "metadata": {},
     "output_type": "execute_result"
    }
   ],
   "source": [
    "places.insert(4, \"Australia\")\n",
    "places"
   ]
  },
  {
   "cell_type": "code",
   "execution_count": 24,
   "id": "8db31955",
   "metadata": {},
   "outputs": [
    {
     "data": {
      "text/plain": [
       "['Berlin', 'Sydney', 'Seoul', 'Australia', 'New Delhi', 'New York', 'Moscow']"
      ]
     },
     "execution_count": 24,
     "metadata": {},
     "output_type": "execute_result"
    }
   ],
   "source": [
    "# Delete\n",
    "del places[2]\n",
    "places"
   ]
  },
  {
   "cell_type": "markdown",
   "id": "2d1825c0",
   "metadata": {},
   "source": [
    "# 7. CRUD For Dictionary"
   ]
  },
  {
   "cell_type": "code",
   "execution_count": 4,
   "id": "d210eaca",
   "metadata": {},
   "outputs": [],
   "source": [
    "# Create"
   ]
  },
  {
   "cell_type": "code",
   "execution_count": 5,
   "id": "77c9ba56",
   "metadata": {},
   "outputs": [],
   "source": [
    "office = {\n",
    "    \"Name\" : \"George\",\n",
    "    \"Age\" : \"Twenty two\",\n",
    "    \"Position\" : \"IT Manager\"\n",
    "}"
   ]
  },
  {
   "cell_type": "code",
   "execution_count": null,
   "id": "f14fd1ee",
   "metadata": {},
   "outputs": [],
   "source": [
    "# Read"
   ]
  },
  {
   "cell_type": "code",
   "execution_count": 7,
   "id": "76968558",
   "metadata": {},
   "outputs": [
    {
     "name": "stdout",
     "output_type": "stream",
     "text": [
      "{'Name': 'George', 'Age': 'Twenty two', 'Position': 'IT Manager'}\n"
     ]
    }
   ],
   "source": [
    "print(office)"
   ]
  },
  {
   "cell_type": "code",
   "execution_count": 8,
   "id": "86be2c66",
   "metadata": {},
   "outputs": [
    {
     "data": {
      "text/plain": [
       "'Twenty two'"
      ]
     },
     "execution_count": 8,
     "metadata": {},
     "output_type": "execute_result"
    }
   ],
   "source": [
    "office[\"Age\"]"
   ]
  },
  {
   "cell_type": "code",
   "execution_count": 9,
   "id": "385cc477",
   "metadata": {},
   "outputs": [
    {
     "data": {
      "text/plain": [
       "dict_keys(['Name', 'Age', 'Position'])"
      ]
     },
     "execution_count": 9,
     "metadata": {},
     "output_type": "execute_result"
    }
   ],
   "source": [
    "# Read the keys\n",
    "office.keys()"
   ]
  },
  {
   "cell_type": "code",
   "execution_count": 10,
   "id": "6c4d4dac",
   "metadata": {},
   "outputs": [
    {
     "data": {
      "text/plain": [
       "dict_values(['George', 'Twenty two', 'IT Manager'])"
      ]
     },
     "execution_count": 10,
     "metadata": {},
     "output_type": "execute_result"
    }
   ],
   "source": [
    "# Read the values\n",
    "office.values()"
   ]
  },
  {
   "cell_type": "code",
   "execution_count": 2,
   "id": "d8fe76a1",
   "metadata": {},
   "outputs": [],
   "source": [
    "# Update"
   ]
  },
  {
   "cell_type": "code",
   "execution_count": 11,
   "id": "68a252a1",
   "metadata": {},
   "outputs": [],
   "source": [
    "# Update the values\n",
    "office[\"Position\"] = \"HR\""
   ]
  },
  {
   "cell_type": "code",
   "execution_count": 12,
   "id": "b61bf914",
   "metadata": {},
   "outputs": [
    {
     "name": "stdout",
     "output_type": "stream",
     "text": [
      "{'Name': 'George', 'Age': 'Twenty two', 'Position': 'HR'}\n"
     ]
    }
   ],
   "source": [
    "print(office)"
   ]
  },
  {
   "cell_type": "code",
   "execution_count": 13,
   "id": "e5cc1dd7",
   "metadata": {},
   "outputs": [],
   "source": [
    "# Add new key and value\n",
    "office[\"Role\"] = \"Recruiting\""
   ]
  },
  {
   "cell_type": "code",
   "execution_count": 15,
   "id": "decd3ffc",
   "metadata": {},
   "outputs": [
    {
     "data": {
      "text/plain": [
       "{'Name': 'George', 'Age': 'Twenty two', 'Position': 'HR', 'Role': 'Recruiting'}"
      ]
     },
     "execution_count": 15,
     "metadata": {},
     "output_type": "execute_result"
    }
   ],
   "source": [
    "office"
   ]
  },
  {
   "cell_type": "code",
   "execution_count": 3,
   "id": "0631d191",
   "metadata": {},
   "outputs": [],
   "source": [
    "# Delete"
   ]
  },
  {
   "cell_type": "code",
   "execution_count": 16,
   "id": "6de9acbc",
   "metadata": {},
   "outputs": [],
   "source": [
    "del office[\"Role\"]"
   ]
  },
  {
   "cell_type": "code",
   "execution_count": 17,
   "id": "07974136",
   "metadata": {},
   "outputs": [
    {
     "data": {
      "text/plain": [
       "{'Name': 'George', 'Age': 'Twenty two', 'Position': 'HR'}"
      ]
     },
     "execution_count": 17,
     "metadata": {},
     "output_type": "execute_result"
    }
   ],
   "source": [
    "office"
   ]
  },
  {
   "cell_type": "markdown",
   "id": "ea7c03d3",
   "metadata": {},
   "source": [
    "# 8. IF, Else, Elif Statement "
   ]
  },
  {
   "cell_type": "code",
   "execution_count": 18,
   "id": "8644084f",
   "metadata": {},
   "outputs": [
    {
     "name": "stdout",
     "output_type": "stream",
     "text": [
      "He is not a scientist\n"
     ]
    }
   ],
   "source": [
    "# If statement\n",
    "scientist = \"Sir Isaac Newton\"\n",
    "if scientist != \"Newton\":\n",
    "    print(\"He is not a scientist\")"
   ]
  },
  {
   "cell_type": "code",
   "execution_count": 19,
   "id": "626f202e",
   "metadata": {},
   "outputs": [
    {
     "name": "stdout",
     "output_type": "stream",
     "text": [
      "The number is greater than 10\n"
     ]
    }
   ],
   "source": [
    "# Else statement\n",
    "my_number = 20\n",
    "if my_number <= 5:\n",
    "    print(\"The number is less than 5\")\n",
    "# Elif statement\n",
    "elif my_number >= 10:\n",
    "    print(\"The number is greater than 10\")\n",
    "else:\n",
    "    print(\"The number is between 6 and 9\")"
   ]
  },
  {
   "cell_type": "markdown",
   "id": "305c8124",
   "metadata": {},
   "source": [
    "# 9. IN Statement "
   ]
  },
  {
   "cell_type": "code",
   "execution_count": null,
   "id": "fa320525",
   "metadata": {},
   "outputs": [],
   "source": []
  }
 ],
 "metadata": {
  "kernelspec": {
   "display_name": "Python 3 (ipykernel)",
   "language": "python",
   "name": "python3"
  },
  "language_info": {
   "codemirror_mode": {
    "name": "ipython",
    "version": 3
   },
   "file_extension": ".py",
   "mimetype": "text/x-python",
   "name": "python",
   "nbconvert_exporter": "python",
   "pygments_lexer": "ipython3",
   "version": "3.8.10"
  }
 },
 "nbformat": 4,
 "nbformat_minor": 5
}
