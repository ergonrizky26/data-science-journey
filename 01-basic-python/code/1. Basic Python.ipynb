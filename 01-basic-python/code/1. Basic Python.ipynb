{
 "cells": [
  {
   "cell_type": "markdown",
   "id": "50c1b727",
   "metadata": {},
   "source": [
    "# 1. Basic Variables"
   ]
  },
  {
   "cell_type": "code",
   "execution_count": 10,
   "id": "7f1bd472",
   "metadata": {},
   "outputs": [],
   "source": [
    "my_friend = \"Tony is my friend\"\n",
    "my_number = 123\n",
    "my_decimalnumber = 123.50"
   ]
  },
  {
   "cell_type": "code",
   "execution_count": 11,
   "id": "3595a77e",
   "metadata": {},
   "outputs": [
    {
     "name": "stdout",
     "output_type": "stream",
     "text": [
      "Tony is my friend\n",
      "123\n",
      "123.5\n"
     ]
    }
   ],
   "source": [
    "print(my_friend)\n",
    "print(my_number)\n",
    "print(my_decimalnumber)"
   ]
  },
  {
   "cell_type": "code",
   "execution_count": 16,
   "id": "24e0c137",
   "metadata": {},
   "outputs": [
    {
     "name": "stdout",
     "output_type": "stream",
     "text": [
      "<class 'str'>\n",
      "<class 'int'>\n",
      "<class 'float'>\n"
     ]
    }
   ],
   "source": [
    "# Check data type\n",
    "print(type(my_friend))\n",
    "print(type(my_number))\n",
    "print(type(my_decimalnumber))"
   ]
  },
  {
   "cell_type": "markdown",
   "id": "35d37b71",
   "metadata": {},
   "source": [
    "# 2. Different Data Types"
   ]
  },
  {
   "cell_type": "code",
   "execution_count": 18,
   "id": "22cb50c6",
   "metadata": {},
   "outputs": [
    {
     "name": "stdout",
     "output_type": "stream",
     "text": [
      "This is my string\n"
     ]
    },
    {
     "data": {
      "text/plain": [
       "str"
      ]
     },
     "execution_count": 18,
     "metadata": {},
     "output_type": "execute_result"
    }
   ],
   "source": [
    "# String\n",
    "String_one = \"This is my string\"\n",
    "print(String_one)\n",
    "type(String_one)"
   ]
  },
  {
   "cell_type": "code",
   "execution_count": 20,
   "id": "b51ba2dd",
   "metadata": {},
   "outputs": [
    {
     "name": "stdout",
     "output_type": "stream",
     "text": [
      "26\n"
     ]
    },
    {
     "data": {
      "text/plain": [
       "int"
      ]
     },
     "execution_count": 20,
     "metadata": {},
     "output_type": "execute_result"
    }
   ],
   "source": [
    "# Integer\n",
    "Integer_one = 26\n",
    "print(Integer_one)\n",
    "type(Integer_one)"
   ]
  },
  {
   "cell_type": "code",
   "execution_count": 21,
   "id": "5efc7d8e",
   "metadata": {},
   "outputs": [
    {
     "data": {
      "text/plain": [
       "46"
      ]
     },
     "execution_count": 21,
     "metadata": {},
     "output_type": "execute_result"
    }
   ],
   "source": [
    "Integer_one + 20"
   ]
  },
  {
   "cell_type": "code",
   "execution_count": 22,
   "id": "f731ccb6",
   "metadata": {},
   "outputs": [
    {
     "name": "stdout",
     "output_type": "stream",
     "text": [
      "26.62\n"
     ]
    },
    {
     "data": {
      "text/plain": [
       "float"
      ]
     },
     "execution_count": 22,
     "metadata": {},
     "output_type": "execute_result"
    }
   ],
   "source": [
    "# Float (Decimal Number)\n",
    "Float_one = 26.62\n",
    "print(Float_one)\n",
    "type(Float_one)"
   ]
  },
  {
   "cell_type": "code",
   "execution_count": 24,
   "id": "a6e1bfc1",
   "metadata": {},
   "outputs": [
    {
     "data": {
      "text/plain": [
       "0.620000000000001"
      ]
     },
     "execution_count": 24,
     "metadata": {},
     "output_type": "execute_result"
    }
   ],
   "source": [
    "Float_one - Integer_one"
   ]
  },
  {
   "cell_type": "code",
   "execution_count": 27,
   "id": "25b6bfe3",
   "metadata": {},
   "outputs": [
    {
     "name": "stdout",
     "output_type": "stream",
     "text": [
      "True\n",
      "False\n"
     ]
    },
    {
     "data": {
      "text/plain": [
       "bool"
      ]
     },
     "execution_count": 27,
     "metadata": {},
     "output_type": "execute_result"
    }
   ],
   "source": [
    "# Booleans (True and False)\n",
    "Boolean_one = True\n",
    "print(Boolean_one)\n",
    "type(Boolean_one)\n",
    "\n",
    "Boolean_two = bool(0)\n",
    "print(Boolean_two)\n",
    "type(Boolean_two)"
   ]
  },
  {
   "cell_type": "markdown",
   "id": "8130dcb5",
   "metadata": {},
   "source": [
    "# 3. Lists and Tuples"
   ]
  },
  {
   "cell_type": "code",
   "execution_count": 30,
   "id": "2115baf9",
   "metadata": {},
   "outputs": [],
   "source": [
    "# Lists\n",
    "list_A = [12, 14, 16, 12.34, True, 26, \"Abc\"]"
   ]
  },
  {
   "cell_type": "code",
   "execution_count": 31,
   "id": "a5a329be",
   "metadata": {},
   "outputs": [
    {
     "data": {
      "text/plain": [
       "[12, 14, 16, 12.34, True, 26, 'Abc']"
      ]
     },
     "execution_count": 31,
     "metadata": {},
     "output_type": "execute_result"
    }
   ],
   "source": [
    "list_A"
   ]
  },
  {
   "cell_type": "code",
   "execution_count": 32,
   "id": "5f90bfc5",
   "metadata": {},
   "outputs": [
    {
     "data": {
      "text/plain": [
       "list"
      ]
     },
     "execution_count": 32,
     "metadata": {},
     "output_type": "execute_result"
    }
   ],
   "source": [
    "type(list_A)"
   ]
  },
  {
   "cell_type": "code",
   "execution_count": 33,
   "id": "55e13e71",
   "metadata": {},
   "outputs": [
    {
     "data": {
      "text/plain": [
       "14"
      ]
     },
     "execution_count": 33,
     "metadata": {},
     "output_type": "execute_result"
    }
   ],
   "source": [
    "# Index numbering on lists start from 0\n",
    "list_A[1]"
   ]
  },
  {
   "cell_type": "code",
   "execution_count": 34,
   "id": "e10fd651",
   "metadata": {},
   "outputs": [
    {
     "data": {
      "text/plain": [
       "[12, 20, 16, 12.34, True, 26, 'Abc']"
      ]
     },
     "execution_count": 34,
     "metadata": {},
     "output_type": "execute_result"
    }
   ],
   "source": [
    "# Value in lists can be update by its index (Mutable - update the value)\n",
    "list_A[1] = 20\n",
    "list_A"
   ]
  },
  {
   "cell_type": "code",
   "execution_count": 35,
   "id": "3ea027ec",
   "metadata": {},
   "outputs": [],
   "source": [
    "# Tuples\n",
    "tuple_A = (12, 13, 14, 14.5, 15, 16)"
   ]
  },
  {
   "cell_type": "code",
   "execution_count": 36,
   "id": "caa132b6",
   "metadata": {},
   "outputs": [
    {
     "data": {
      "text/plain": [
       "tuple"
      ]
     },
     "execution_count": 36,
     "metadata": {},
     "output_type": "execute_result"
    }
   ],
   "source": [
    "type(tuple_A)"
   ]
  },
  {
   "cell_type": "code",
   "execution_count": 37,
   "id": "2730155b",
   "metadata": {},
   "outputs": [
    {
     "data": {
      "text/plain": [
       "14.5"
      ]
     },
     "execution_count": 37,
     "metadata": {},
     "output_type": "execute_result"
    }
   ],
   "source": [
    "tuple_A[3]"
   ]
  },
  {
   "cell_type": "code",
   "execution_count": 38,
   "id": "e7fe43a5",
   "metadata": {},
   "outputs": [
    {
     "ename": "TypeError",
     "evalue": "'type' object does not support item assignment",
     "output_type": "error",
     "traceback": [
      "\u001b[0;31m---------------------------------------------------------------------------\u001b[0m",
      "\u001b[0;31mTypeError\u001b[0m                                 Traceback (most recent call last)",
      "Input \u001b[0;32mIn [38]\u001b[0m, in \u001b[0;36m<cell line: 2>\u001b[0;34m()\u001b[0m\n\u001b[1;32m      1\u001b[0m \u001b[38;5;66;03m# Tuples -> Immutable - cannot update the value\u001b[39;00m\n\u001b[0;32m----> 2\u001b[0m \u001b[38;5;28mtuple\u001b[39m[\u001b[38;5;241m4\u001b[39m] \u001b[38;5;241m=\u001b[39m \u001b[38;5;241m18\u001b[39m\n",
      "\u001b[0;31mTypeError\u001b[0m: 'type' object does not support item assignment"
     ]
    }
   ],
   "source": [
    "# Tuples -> Immutable - cannot update the value\n",
    "# this code error\n",
    "tuple[4] = 18"
   ]
  },
  {
   "cell_type": "markdown",
   "id": "975fb479",
   "metadata": {},
   "source": [
    "# 4. Sets"
   ]
  },
  {
   "cell_type": "code",
   "execution_count": 39,
   "id": "c3391cc0",
   "metadata": {},
   "outputs": [],
   "source": [
    "set_A = {12, 12, 12, 13, 13, 14, 15, 16, 16, 17}"
   ]
  },
  {
   "cell_type": "code",
   "execution_count": 40,
   "id": "1e239395",
   "metadata": {},
   "outputs": [
    {
     "data": {
      "text/plain": [
       "set"
      ]
     },
     "execution_count": 40,
     "metadata": {},
     "output_type": "execute_result"
    }
   ],
   "source": [
    "type(set_A)"
   ]
  },
  {
   "cell_type": "code",
   "execution_count": 42,
   "id": "d35a889a",
   "metadata": {},
   "outputs": [
    {
     "ename": "TypeError",
     "evalue": "'type' object does not support item assignment",
     "output_type": "error",
     "traceback": [
      "\u001b[0;31m---------------------------------------------------------------------------\u001b[0m",
      "\u001b[0;31mTypeError\u001b[0m                                 Traceback (most recent call last)",
      "Input \u001b[0;32mIn [42]\u001b[0m, in \u001b[0;36m<cell line: 3>\u001b[0;34m()\u001b[0m\n\u001b[1;32m      1\u001b[0m \u001b[38;5;66;03m# Sets cannot update the value\u001b[39;00m\n\u001b[1;32m      2\u001b[0m \u001b[38;5;66;03m# Set cannot support item assigne (Immutable)\u001b[39;00m\n\u001b[0;32m----> 3\u001b[0m \u001b[38;5;28mset\u001b[39m[\u001b[38;5;241m4\u001b[39m] \u001b[38;5;241m=\u001b[39m \u001b[38;5;241m67\u001b[39m\n",
      "\u001b[0;31mTypeError\u001b[0m: 'type' object does not support item assignment"
     ]
    }
   ],
   "source": [
    "# Sets cannot update the value\n",
    "# Set cannot support item assigne (Immutable)\n",
    "# this code error\n",
    "set[4] = 67"
   ]
  },
  {
   "cell_type": "code",
   "execution_count": 43,
   "id": "9694f057",
   "metadata": {},
   "outputs": [
    {
     "data": {
      "text/plain": [
       "{12, 13, 14, 15, 16, 17}"
      ]
     },
     "execution_count": 43,
     "metadata": {},
     "output_type": "execute_result"
    }
   ],
   "source": [
    "# Sets not print duplicates value (remove duplicates)\n",
    "set_A"
   ]
  },
  {
   "cell_type": "code",
   "execution_count": 45,
   "id": "ce67d52d",
   "metadata": {},
   "outputs": [
    {
     "data": {
      "text/plain": [
       "[13, 14, 14.45, 15, 'True', 32, 32]"
      ]
     },
     "execution_count": 45,
     "metadata": {},
     "output_type": "execute_result"
    }
   ],
   "source": [
    "# Change list to set\n",
    "list_B = [13, 14, 14.45, 15, 'True', 32, 32]\n",
    "list_B"
   ]
  },
  {
   "cell_type": "code",
   "execution_count": 46,
   "id": "983fefa8",
   "metadata": {},
   "outputs": [
    {
     "data": {
      "text/plain": [
       "{13, 14, 14.45, 15, 32, 'True'}"
      ]
     },
     "execution_count": 46,
     "metadata": {},
     "output_type": "execute_result"
    }
   ],
   "source": [
    "set(list_B)"
   ]
  },
  {
   "cell_type": "code",
   "execution_count": 47,
   "id": "988b6196",
   "metadata": {},
   "outputs": [
    {
     "data": {
      "text/plain": [
       "[32, 'True', 13, 14, 15, 14.45]"
      ]
     },
     "execution_count": 47,
     "metadata": {},
     "output_type": "execute_result"
    }
   ],
   "source": [
    "# Change set to list\n",
    "list(set(list_B))"
   ]
  },
  {
   "cell_type": "code",
   "execution_count": 48,
   "id": "f0f3752e",
   "metadata": {},
   "outputs": [
    {
     "data": {
      "text/plain": [
       "list"
      ]
     },
     "execution_count": 48,
     "metadata": {},
     "output_type": "execute_result"
    }
   ],
   "source": [
    "type(list(set(list_B)))"
   ]
  },
  {
   "cell_type": "code",
   "execution_count": null,
   "id": "a787ba46",
   "metadata": {},
   "outputs": [],
   "source": []
  }
 ],
 "metadata": {
  "kernelspec": {
   "display_name": "Python 3 (ipykernel)",
   "language": "python",
   "name": "python3"
  },
  "language_info": {
   "codemirror_mode": {
    "name": "ipython",
    "version": 3
   },
   "file_extension": ".py",
   "mimetype": "text/x-python",
   "name": "python",
   "nbconvert_exporter": "python",
   "pygments_lexer": "ipython3",
   "version": "3.8.10"
  }
 },
 "nbformat": 4,
 "nbformat_minor": 5
}
