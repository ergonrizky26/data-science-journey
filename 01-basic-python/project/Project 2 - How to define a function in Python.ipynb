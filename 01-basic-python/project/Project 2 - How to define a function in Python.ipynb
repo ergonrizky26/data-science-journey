{
 "cells": [
  {
   "cell_type": "code",
   "execution_count": 1,
   "id": "63044d3d",
   "metadata": {},
   "outputs": [],
   "source": [
    "def customer_info(name, age, country, work):\n",
    "    print(\"Hi, my name {}, my age {}, i live in {}, now i work as a {}\".format(name, age, country, work))"
   ]
  },
  {
   "cell_type": "code",
   "execution_count": 2,
   "id": "5db10e15",
   "metadata": {},
   "outputs": [
    {
     "name": "stdout",
     "output_type": "stream",
     "text": [
      "Hi, my name Bryan, my age 27, i live in West Jakarta, now i work as a Data Scientist\n"
     ]
    }
   ],
   "source": [
    "customer_info(\"Bryan\", 27, \"West Jakarta\", \"Data Scientist\")"
   ]
  },
  {
   "cell_type": "code",
   "execution_count": null,
   "id": "ee0b41a2",
   "metadata": {},
   "outputs": [],
   "source": []
  }
 ],
 "metadata": {
  "kernelspec": {
   "display_name": "Python 3 (ipykernel)",
   "language": "python",
   "name": "python3"
  },
  "language_info": {
   "codemirror_mode": {
    "name": "ipython",
    "version": 3
   },
   "file_extension": ".py",
   "mimetype": "text/x-python",
   "name": "python",
   "nbconvert_exporter": "python",
   "pygments_lexer": "ipython3",
   "version": "3.8.10"
  }
 },
 "nbformat": 4,
 "nbformat_minor": 5
}
