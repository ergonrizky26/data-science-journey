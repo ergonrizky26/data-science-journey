{
 "cells": [
  {
   "cell_type": "code",
   "execution_count": 3,
   "id": "ce5c3668",
   "metadata": {},
   "outputs": [],
   "source": [
    "multiple_data_type = [\"Innova\", 29, 40.30, True]"
   ]
  },
  {
   "cell_type": "code",
   "execution_count": 4,
   "id": "65897a82",
   "metadata": {},
   "outputs": [
    {
     "name": "stdout",
     "output_type": "stream",
     "text": [
      "['Innova', 29, 40.3, True]\n"
     ]
    }
   ],
   "source": [
    "print(multiple_data_type)"
   ]
  },
  {
   "cell_type": "code",
   "execution_count": null,
   "id": "71973891",
   "metadata": {},
   "outputs": [],
   "source": []
  }
 ],
 "metadata": {
  "kernelspec": {
   "display_name": "Python 3 (ipykernel)",
   "language": "python",
   "name": "python3"
  },
  "language_info": {
   "codemirror_mode": {
    "name": "ipython",
    "version": 3
   },
   "file_extension": ".py",
   "mimetype": "text/x-python",
   "name": "python",
   "nbconvert_exporter": "python",
   "pygments_lexer": "ipython3",
   "version": "3.8.10"
  }
 },
 "nbformat": 4,
 "nbformat_minor": 5
}
